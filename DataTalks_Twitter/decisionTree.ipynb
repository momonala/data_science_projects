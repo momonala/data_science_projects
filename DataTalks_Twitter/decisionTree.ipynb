{
 "cells": [
  {
   "cell_type": "code",
   "execution_count": 1,
   "metadata": {},
   "outputs": [],
   "source": [
    "import pandas as pd\n",
    "import numpy as np\n",
    "import matplotlib.pyplot as plt\n",
    "import seaborn as sns\n",
    "\n",
    "%matplotlib inline"
   ]
  },
  {
   "cell_type": "code",
   "execution_count": 2,
   "metadata": {},
   "outputs": [],
   "source": [
    "df = pd.read_csv('./tweets.csv')\n",
    "df.date = pd.to_datetime(df.date)\n",
    "df = df[~df.text.str.startswith('rt ')]\n",
    "df = df[~df.text.str.startswith('RT')]\n",
    "df = df.drop('Unnamed: 0', axis=1)"
   ]
  },
  {
   "cell_type": "code",
   "execution_count": 3,
   "metadata": {},
   "outputs": [
    {
     "data": {
      "text/html": [
       "<div>\n",
       "<style scoped>\n",
       "    .dataframe tbody tr th:only-of-type {\n",
       "        vertical-align: middle;\n",
       "    }\n",
       "\n",
       "    .dataframe tbody tr th {\n",
       "        vertical-align: top;\n",
       "    }\n",
       "\n",
       "    .dataframe thead th {\n",
       "        text-align: right;\n",
       "    }\n",
       "</style>\n",
       "<table border=\"1\" class=\"dataframe\">\n",
       "  <thead>\n",
       "    <tr style=\"text-align: right;\">\n",
       "      <th></th>\n",
       "      <th>date</th>\n",
       "      <th>text</th>\n",
       "      <th>author</th>\n",
       "    </tr>\n",
       "  </thead>\n",
       "  <tbody>\n",
       "    <tr>\n",
       "      <th>0</th>\n",
       "      <td>2016-10-14</td>\n",
       "      <td>Denying climate change is dangerous. Join @OFA...</td>\n",
       "      <td>BarackObama</td>\n",
       "    </tr>\n",
       "    <tr>\n",
       "      <th>1</th>\n",
       "      <td>2016-10-14</td>\n",
       "      <td>The American Bar Association gave Judge Garlan...</td>\n",
       "      <td>BarackObama</td>\n",
       "    </tr>\n",
       "    <tr>\n",
       "      <th>2</th>\n",
       "      <td>2016-10-14</td>\n",
       "      <td>We need a fully functional Supreme Court. Edit...</td>\n",
       "      <td>BarackObama</td>\n",
       "    </tr>\n",
       "    <tr>\n",
       "      <th>3</th>\n",
       "      <td>2016-10-14</td>\n",
       "      <td>Cynics, take note: When we #ActOnClimate, we b...</td>\n",
       "      <td>BarackObama</td>\n",
       "    </tr>\n",
       "    <tr>\n",
       "      <th>4</th>\n",
       "      <td>2016-10-13</td>\n",
       "      <td>\"That’s how we will overcome the challenges we...</td>\n",
       "      <td>BarackObama</td>\n",
       "    </tr>\n",
       "  </tbody>\n",
       "</table>\n",
       "</div>"
      ],
      "text/plain": [
       "        date                                               text       author\n",
       "0 2016-10-14  Denying climate change is dangerous. Join @OFA...  BarackObama\n",
       "1 2016-10-14  The American Bar Association gave Judge Garlan...  BarackObama\n",
       "2 2016-10-14  We need a fully functional Supreme Court. Edit...  BarackObama\n",
       "3 2016-10-14  Cynics, take note: When we #ActOnClimate, we b...  BarackObama\n",
       "4 2016-10-13  \"That’s how we will overcome the challenges we...  BarackObama"
      ]
     },
     "execution_count": 3,
     "metadata": {},
     "output_type": "execute_result"
    }
   ],
   "source": [
    "df.head()"
   ]
  },
  {
   "cell_type": "code",
   "execution_count": 4,
   "metadata": {},
   "outputs": [
    {
     "data": {
      "text/plain": [
       "author\n",
       "BarackObama        9126\n",
       "DonaldTrump       14310\n",
       "HillaryClinton     5654\n",
       "Name: author, dtype: int64"
      ]
     },
     "execution_count": 4,
     "metadata": {},
     "output_type": "execute_result"
    }
   ],
   "source": [
    "df.groupby('author').author.count()"
   ]
  },
  {
   "cell_type": "markdown",
   "metadata": {},
   "source": [
    "## Preprocessing \n",
    "\n",
    "#### By hand \n",
    "- lowercase \n",
    "- rid special chars (except #)\n",
    "- rid punctuation \n",
    "- rid stop words\n",
    "- remove links\n",
    "\n",
    "#### With Sklearn \n",
    "- create bigrams and unigrams \n",
    "- remove words occuring < 3 times \n",
    "- remove terms in 25% of all docs "
   ]
  },
  {
   "cell_type": "code",
   "execution_count": 5,
   "metadata": {},
   "outputs": [
    {
     "data": {
      "text/plain": [
       "'!\"$%&\\'()*+,-./:;<=>?[\\\\]^_`{|}~—”“…‘'"
      ]
     },
     "execution_count": 5,
     "metadata": {},
     "output_type": "execute_result"
    }
   ],
   "source": [
    "import string\n",
    "punc = string.punctuation.replace('#', '')\n",
    "punc = punc.replace('@', '')\n",
    "punc += '—'\n",
    "punc += '”'\n",
    "punc += '“' \n",
    "punc += '…' \n",
    "punc += '‘'\n",
    "\n",
    "punc"
   ]
  },
  {
   "cell_type": "code",
   "execution_count": 6,
   "metadata": {
    "scrolled": false
   },
   "outputs": [],
   "source": [
    "def preprocess(x): \n",
    "    x = x.lower()\n",
    "    #replace links \n",
    "    for word in x.split(): \n",
    "        if 'pic.twitter' in word:\n",
    "            x = x.replace(word, '')\n",
    "        if 'http' in word: \n",
    "            x = x.replace(word, '') \n",
    "    #replace special chars \n",
    "    for char in punc: \n",
    "        x = x.replace(char, '')\n",
    "    x = ' '.join(x.split()) #get rid of white spaces \n",
    "\n",
    "    return x\n",
    "    \n",
    "df['process_text'] = df.text.apply(preprocess)"
   ]
  },
  {
   "cell_type": "code",
   "execution_count": 7,
   "metadata": {},
   "outputs": [
    {
     "name": "stdout",
     "output_type": "stream",
     "text": [
      "(29090, 4)\n"
     ]
    },
    {
     "data": {
      "text/html": [
       "<div>\n",
       "<style scoped>\n",
       "    .dataframe tbody tr th:only-of-type {\n",
       "        vertical-align: middle;\n",
       "    }\n",
       "\n",
       "    .dataframe tbody tr th {\n",
       "        vertical-align: top;\n",
       "    }\n",
       "\n",
       "    .dataframe thead th {\n",
       "        text-align: right;\n",
       "    }\n",
       "</style>\n",
       "<table border=\"1\" class=\"dataframe\">\n",
       "  <thead>\n",
       "    <tr style=\"text-align: right;\">\n",
       "      <th></th>\n",
       "      <th>date</th>\n",
       "      <th>text</th>\n",
       "      <th>author</th>\n",
       "      <th>process_text</th>\n",
       "    </tr>\n",
       "  </thead>\n",
       "  <tbody>\n",
       "    <tr>\n",
       "      <th>0</th>\n",
       "      <td>2016-10-14</td>\n",
       "      <td>Denying climate change is dangerous. Join @OFA...</td>\n",
       "      <td>BarackObama</td>\n",
       "      <td>denying climate change is dangerous join @ofa ...</td>\n",
       "    </tr>\n",
       "    <tr>\n",
       "      <th>1</th>\n",
       "      <td>2016-10-14</td>\n",
       "      <td>The American Bar Association gave Judge Garlan...</td>\n",
       "      <td>BarackObama</td>\n",
       "      <td>the american bar association gave judge garlan...</td>\n",
       "    </tr>\n",
       "  </tbody>\n",
       "</table>\n",
       "</div>"
      ],
      "text/plain": [
       "        date                                               text       author  \\\n",
       "0 2016-10-14  Denying climate change is dangerous. Join @OFA...  BarackObama   \n",
       "1 2016-10-14  The American Bar Association gave Judge Garlan...  BarackObama   \n",
       "\n",
       "                                        process_text  \n",
       "0  denying climate change is dangerous join @ofa ...  \n",
       "1  the american bar association gave judge garlan...  "
      ]
     },
     "execution_count": 7,
     "metadata": {},
     "output_type": "execute_result"
    }
   ],
   "source": [
    "print (df.shape)\n",
    "df.head(2)"
   ]
  },
  {
   "cell_type": "code",
   "execution_count": 8,
   "metadata": {},
   "outputs": [
    {
     "data": {
      "text/html": [
       "<div>\n",
       "<style scoped>\n",
       "    .dataframe tbody tr th:only-of-type {\n",
       "        vertical-align: middle;\n",
       "    }\n",
       "\n",
       "    .dataframe tbody tr th {\n",
       "        vertical-align: top;\n",
       "    }\n",
       "\n",
       "    .dataframe thead th {\n",
       "        text-align: right;\n",
       "    }\n",
       "</style>\n",
       "<table border=\"1\" class=\"dataframe\">\n",
       "  <thead>\n",
       "    <tr style=\"text-align: right;\">\n",
       "      <th></th>\n",
       "      <th>occurrences</th>\n",
       "      <th>term</th>\n",
       "    </tr>\n",
       "  </thead>\n",
       "  <tbody>\n",
       "    <tr>\n",
       "      <th>9034</th>\n",
       "      <td>4185</td>\n",
       "      <td>president</td>\n",
       "    </tr>\n",
       "    <tr>\n",
       "      <th>7957</th>\n",
       "      <td>3916</td>\n",
       "      <td>obama</td>\n",
       "    </tr>\n",
       "    <tr>\n",
       "      <th>9071</th>\n",
       "      <td>2742</td>\n",
       "      <td>president obama</td>\n",
       "    </tr>\n",
       "    <tr>\n",
       "      <th>4883</th>\n",
       "      <td>2086</td>\n",
       "      <td>great</td>\n",
       "    </tr>\n",
       "    <tr>\n",
       "      <th>11950</th>\n",
       "      <td>1983</td>\n",
       "      <td>trump</td>\n",
       "    </tr>\n",
       "  </tbody>\n",
       "</table>\n",
       "</div>"
      ],
      "text/plain": [
       "       occurrences             term\n",
       "9034          4185        president\n",
       "7957          3916            obama\n",
       "9071          2742  president obama\n",
       "4883          2086            great\n",
       "11950         1983            trump"
      ]
     },
     "execution_count": 8,
     "metadata": {},
     "output_type": "execute_result"
    }
   ],
   "source": [
    "### word counts ### \n",
    "\n",
    "from sklearn.feature_extraction.text import CountVectorizer\n",
    "from sklearn.feature_extraction.text import TfidfTransformer\n",
    "\n",
    "cvec = CountVectorizer(stop_words='english', min_df=4, max_df=.25, ngram_range=(1,2))\n",
    "cvec.fit(df.process_text)\n",
    "cvec_counts = cvec.transform(df.process_text)\n",
    "occ = np.asarray(cvec_counts.sum(axis=0)).ravel().tolist()\n",
    "counts_df = pd.DataFrame({'term': cvec.get_feature_names(), 'occurrences': occ})\n",
    "counts_df.sort_values(by='occurrences', ascending=False).head()"
   ]
  },
  {
   "cell_type": "code",
   "execution_count": 9,
   "metadata": {},
   "outputs": [
    {
     "data": {
      "text/html": [
       "<div>\n",
       "<style scoped>\n",
       "    .dataframe tbody tr th:only-of-type {\n",
       "        vertical-align: middle;\n",
       "    }\n",
       "\n",
       "    .dataframe tbody tr th {\n",
       "        vertical-align: top;\n",
       "    }\n",
       "\n",
       "    .dataframe thead th {\n",
       "        text-align: right;\n",
       "    }\n",
       "</style>\n",
       "<table border=\"1\" class=\"dataframe\">\n",
       "  <thead>\n",
       "    <tr style=\"text-align: right;\">\n",
       "      <th></th>\n",
       "      <th>date</th>\n",
       "      <th>text</th>\n",
       "      <th>author</th>\n",
       "      <th>process_text</th>\n",
       "      <th>president</th>\n",
       "      <th>obama</th>\n",
       "      <th>president obama</th>\n",
       "      <th>great</th>\n",
       "      <th>trump</th>\n",
       "      <th>just</th>\n",
       "      <th>...</th>\n",
       "      <th>don</th>\n",
       "      <th>youre</th>\n",
       "      <th>bad</th>\n",
       "      <th>did</th>\n",
       "      <th>house</th>\n",
       "      <th>potus</th>\n",
       "      <th>making</th>\n",
       "      <th>national</th>\n",
       "      <th>climate change</th>\n",
       "      <th>stand</th>\n",
       "    </tr>\n",
       "  </thead>\n",
       "  <tbody>\n",
       "    <tr>\n",
       "      <th>0</th>\n",
       "      <td>2016-10-14</td>\n",
       "      <td>Denying climate change is dangerous. Join @OFA...</td>\n",
       "      <td>BarackObama</td>\n",
       "      <td>denying climate change is dangerous join @ofa ...</td>\n",
       "      <td>0</td>\n",
       "      <td>0</td>\n",
       "      <td>0</td>\n",
       "      <td>0</td>\n",
       "      <td>0</td>\n",
       "      <td>0</td>\n",
       "      <td>...</td>\n",
       "      <td>0</td>\n",
       "      <td>0</td>\n",
       "      <td>0</td>\n",
       "      <td>0</td>\n",
       "      <td>0</td>\n",
       "      <td>0</td>\n",
       "      <td>0</td>\n",
       "      <td>0</td>\n",
       "      <td>0</td>\n",
       "      <td>0</td>\n",
       "    </tr>\n",
       "  </tbody>\n",
       "</table>\n",
       "<p>1 rows × 104 columns</p>\n",
       "</div>"
      ],
      "text/plain": [
       "        date                                               text       author  \\\n",
       "0 2016-10-14  Denying climate change is dangerous. Join @OFA...  BarackObama   \n",
       "\n",
       "                                        process_text  president  obama  \\\n",
       "0  denying climate change is dangerous join @ofa ...          0      0   \n",
       "\n",
       "   president obama  great  trump  just  ...    don  youre  bad  did  house  \\\n",
       "0                0      0      0     0  ...      0      0    0    0      0   \n",
       "\n",
       "   potus  making  national  climate change  stand  \n",
       "0      0       0         0               0      0  \n",
       "\n",
       "[1 rows x 104 columns]"
      ]
     },
     "execution_count": 9,
     "metadata": {},
     "output_type": "execute_result"
    }
   ],
   "source": [
    "top_terms = counts_df.sort_values(by='occurrences', ascending=False)[:100].term.values\n",
    "\n",
    "def generate_features(text): \n",
    "    one_hot = np.zeros(shape=top_terms.shape, dtype=int)\n",
    "    for i, term in enumerate(top_terms): \n",
    "        for word in text.split(): \n",
    "            if word == term:\n",
    "                one_hot[i] = 1\n",
    "    return one_hot\n",
    "\n",
    "temp = df.process_text.apply(generate_features)\n",
    "temp = temp.apply(lambda x: pd.Series(x)) #split the vector into columns \n",
    "temp.columns = top_terms #rename \n",
    "df_feat = df.join(temp) \n",
    "df_feat.head(1) #spot check "
   ]
  },
  {
   "cell_type": "markdown",
   "metadata": {},
   "source": [
    "## Decision Tree + Visualization "
   ]
  },
  {
   "cell_type": "code",
   "execution_count": 11,
   "metadata": {},
   "outputs": [
    {
     "data": {
      "image/png": "[encoded data removed]",
      "text/plain": [
       "<IPython.core.display.Image object>"
      ]
     },
     "execution_count": 11,
     "metadata": {},
     "output_type": "execute_result"
    }
   ],
   "source": [
    "from sklearn.model_selection import cross_val_score\n",
    "from sklearn import tree\n",
    "\n",
    "df_TREE = df_feat #[df_feat.author != 'HillaryClinton']\n",
    "\n",
    "### Cross Val Decision Tree ### \n",
    "# clf = tree.DecisionTreeClassifier(random_state=0)\n",
    "# scores = cross_val_score(clf, df_TREE.iloc[:, 4:], df_TREE.author, cv=10)\n",
    "# print(\"Accuracy: %0.2f (+/- %0.2f)\" % (scores.mean(), scores.std() * 2))\n",
    "# print (scores)\n",
    "\n",
    "### Decision Tree for Visualization ###\n",
    "\n",
    "split =  int(df_TREE.shape[0]* 0.9)\n",
    "\n",
    "clf = tree.DecisionTreeClassifier(random_state=0, \n",
    "                                 max_depth=3, #low for visibility \n",
    "                                 criterion = 'entropy')\n",
    "\n",
    "clf = clf.fit(X = df_TREE.iloc[:split, 4:],\n",
    "              y = df_TREE.author[:split])\n",
    "\n",
    "### Visualize ###\n",
    "dotfile = open(\"dtree2.dot\", 'w')\n",
    "tree.export_graphviz(clf, out_file = dotfile, feature_names = df_TREE.iloc[:, 4:].columns)\n",
    "dotfile.close()\n",
    "### dotfile --> png via cmd line  ###\n",
    "!dot -Tpng dtree2.dot -o tree.png\n",
    "from IPython.display import Image \n",
    "Image(filename='tree.png')\n",
    "# !tree.png"
   ]
  },
  {
   "cell_type": "code",
   "execution_count": null,
   "metadata": {},
   "outputs": [],
   "source": []
  }
 ],
 "metadata": {
  "kernelspec": {
   "display_name": "Python 3",
   "language": "python",
   "name": "python3"
  },
  "language_info": {
   "codemirror_mode": {
    "name": "ipython",
    "version": 3
   },
   "file_extension": ".py",
   "mimetype": "text/x-python",
   "name": "python",
   "nbconvert_exporter": "python",
   "pygments_lexer": "ipython3",
   "version": "3.6.3"
  }
 },
 "nbformat": 4,
 "nbformat_minor": 2
}
