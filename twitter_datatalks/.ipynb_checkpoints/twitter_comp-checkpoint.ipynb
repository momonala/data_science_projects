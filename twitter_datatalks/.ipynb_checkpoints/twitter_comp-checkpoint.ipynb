{
 "cells": [
  {
   "cell_type": "code",
   "execution_count": 118,
   "metadata": {},
   "outputs": [],
   "source": [
    "import pandas as pd\n",
    "import numpy as np\n",
    "import matplotlib.pyplot as plt\n",
    "import seaborn as sns\n",
    "\n",
    "%matplotlib inline"
   ]
  },
  {
   "cell_type": "code",
   "execution_count": 119,
   "metadata": {},
   "outputs": [],
   "source": [
    "df = pd.read_csv('./tweets.csv')\n",
    "df.date = pd.to_datetime(df.date)\n",
    "df = df[~df.text.str.startswith('rt ')]\n",
    "df = df[~df.text.str.startswith('RT')]"
   ]
  },
  {
   "cell_type": "code",
   "execution_count": 120,
   "metadata": {},
   "outputs": [
    {
     "data": {
      "text/html": [
       "<div>\n",
       "<style scoped>\n",
       "    .dataframe tbody tr th:only-of-type {\n",
       "        vertical-align: middle;\n",
       "    }\n",
       "\n",
       "    .dataframe tbody tr th {\n",
       "        vertical-align: top;\n",
       "    }\n",
       "\n",
       "    .dataframe thead th {\n",
       "        text-align: right;\n",
       "    }\n",
       "</style>\n",
       "<table border=\"1\" class=\"dataframe\">\n",
       "  <thead>\n",
       "    <tr style=\"text-align: right;\">\n",
       "      <th></th>\n",
       "      <th>Unnamed: 0</th>\n",
       "      <th>date</th>\n",
       "      <th>text</th>\n",
       "      <th>author</th>\n",
       "    </tr>\n",
       "  </thead>\n",
       "  <tbody>\n",
       "    <tr>\n",
       "      <th>0</th>\n",
       "      <td>0</td>\n",
       "      <td>2016-10-14</td>\n",
       "      <td>Denying climate change is dangerous. Join @OFA...</td>\n",
       "      <td>BarackObama</td>\n",
       "    </tr>\n",
       "    <tr>\n",
       "      <th>1</th>\n",
       "      <td>1</td>\n",
       "      <td>2016-10-14</td>\n",
       "      <td>The American Bar Association gave Judge Garlan...</td>\n",
       "      <td>BarackObama</td>\n",
       "    </tr>\n",
       "    <tr>\n",
       "      <th>2</th>\n",
       "      <td>2</td>\n",
       "      <td>2016-10-14</td>\n",
       "      <td>We need a fully functional Supreme Court. Edit...</td>\n",
       "      <td>BarackObama</td>\n",
       "    </tr>\n",
       "    <tr>\n",
       "      <th>3</th>\n",
       "      <td>3</td>\n",
       "      <td>2016-10-14</td>\n",
       "      <td>Cynics, take note: When we #ActOnClimate, we b...</td>\n",
       "      <td>BarackObama</td>\n",
       "    </tr>\n",
       "    <tr>\n",
       "      <th>4</th>\n",
       "      <td>4</td>\n",
       "      <td>2016-10-13</td>\n",
       "      <td>\"That’s how we will overcome the challenges we...</td>\n",
       "      <td>BarackObama</td>\n",
       "    </tr>\n",
       "  </tbody>\n",
       "</table>\n",
       "</div>"
      ],
      "text/plain": [
       "   Unnamed: 0       date                                               text  \\\n",
       "0           0 2016-10-14  Denying climate change is dangerous. Join @OFA...   \n",
       "1           1 2016-10-14  The American Bar Association gave Judge Garlan...   \n",
       "2           2 2016-10-14  We need a fully functional Supreme Court. Edit...   \n",
       "3           3 2016-10-14  Cynics, take note: When we #ActOnClimate, we b...   \n",
       "4           4 2016-10-13  \"That’s how we will overcome the challenges we...   \n",
       "\n",
       "        author  \n",
       "0  BarackObama  \n",
       "1  BarackObama  \n",
       "2  BarackObama  \n",
       "3  BarackObama  \n",
       "4  BarackObama  "
      ]
     },
     "execution_count": 120,
     "metadata": {},
     "output_type": "execute_result"
    }
   ],
   "source": [
    "df.head()"
   ]
  },
  {
   "cell_type": "code",
   "execution_count": 121,
   "metadata": {},
   "outputs": [
    {
     "data": {
      "text/plain": [
       "author\n",
       "BarackObama        9126\n",
       "DonaldTrump       14310\n",
       "HillaryClinton     5654\n",
       "Name: author, dtype: int64"
      ]
     },
     "execution_count": 121,
     "metadata": {},
     "output_type": "execute_result"
    }
   ],
   "source": [
    "df.groupby('author').author.count()"
   ]
  },
  {
   "cell_type": "markdown",
   "metadata": {},
   "source": [
    "Mohit - create features "
   ]
  },
  {
   "cell_type": "code",
   "execution_count": 122,
   "metadata": {},
   "outputs": [],
   "source": [
    "def hasExclamation(x): \n",
    "    if '!' in x: \n",
    "        return True\n",
    "    else: \n",
    "        return False\n",
    "\n",
    "df['hasExclamation'] = df.text.apply(hasExclamation)"
   ]
  },
  {
   "cell_type": "code",
   "execution_count": 123,
   "metadata": {},
   "outputs": [],
   "source": [
    "from string import ascii_uppercase\n",
    "def countCaps(x): \n",
    "    c = 0\n",
    "    for letter in x: \n",
    "        if letter in ascii_uppercase: \n",
    "            c+=1 \n",
    "    return c\n",
    "\n",
    "df['countCaps'] = df.text.apply(countCaps)"
   ]
  },
  {
   "cell_type": "code",
   "execution_count": 124,
   "metadata": {},
   "outputs": [],
   "source": [
    "def globalWarming(x): \n",
    "    if 'global warming' in x.lower():\n",
    "        return True\n",
    "    else: \n",
    "        return False\n",
    "df['globalWarming'] = df.text.apply(globalWarming)"
   ]
  },
  {
   "cell_type": "code",
   "execution_count": 125,
   "metadata": {},
   "outputs": [],
   "source": [
    "def climateChange(x): \n",
    "    if 'climate change' in x.lower():\n",
    "        return True\n",
    "    else: \n",
    "        return False \n",
    "df['climateChange'] = df.text.apply(climateChange)"
   ]
  },
  {
   "cell_type": "code",
   "execution_count": 126,
   "metadata": {},
   "outputs": [
    {
     "name": "stdout",
     "output_type": "stream",
     "text": [
      "304 29 50 \n",
      " 0 86 1\n"
     ]
    }
   ],
   "source": [
    "print (df[(df.author == 'BarackObama') & (df.climateChange == 1)].shape[0],\n",
    "    df[(df.author == 'DonaldTrump') & (df.climateChange == 1)].shape[0],\n",
    "    df[(df.author == 'HillaryClinton') & (df.climateChange == 1)].shape[0],\n",
    "    '\\n',\n",
    "    df[(df.author == 'BarackObama') & (df.globalWarming == 1)].shape[0],\n",
    "    df[(df.author == 'DonaldTrump') & (df.globalWarming == 1)].shape[0],\n",
    "    df[(df.author == 'HillaryClinton') & (df.globalWarming == 1)].shape[0])"
   ]
  },
  {
   "cell_type": "code",
   "execution_count": 127,
   "metadata": {},
   "outputs": [],
   "source": [
    "def hasAt(x): \n",
    "    if '@' in x: \n",
    "        return True \n",
    "    else: \n",
    "        return False\n",
    "\n",
    "df['hasAt'] = df.text.apply(hasAt)"
   ]
  },
  {
   "cell_type": "code",
   "execution_count": 128,
   "metadata": {},
   "outputs": [],
   "source": [
    "def hasHashtag(x): \n",
    "    if '#' in x: \n",
    "        return True\n",
    "    else: \n",
    "        return False\n",
    "\n",
    "df['hasHashtag'] = df.text.apply(hasHashtag)"
   ]
  },
  {
   "cell_type": "code",
   "execution_count": 129,
   "metadata": {},
   "outputs": [],
   "source": [
    "def hasRepub(x): \n",
    "    if 'republican' in x.lower(): \n",
    "        return True \n",
    "    else: \n",
    "        return False\n",
    "\n",
    "df['hasRepub'] = df.text.apply(hasRepub)"
   ]
  },
  {
   "cell_type": "code",
   "execution_count": 130,
   "metadata": {},
   "outputs": [],
   "source": [
    "def charCount(x): \n",
    "    return len(x)\n",
    "\n",
    "df['charCount'] = df.text.apply(charCount)"
   ]
  },
  {
   "cell_type": "code",
   "execution_count": 131,
   "metadata": {},
   "outputs": [],
   "source": [
    "def hasDemo(x): \n",
    "    if 'democrat' in x: \n",
    "        return True\n",
    "    else: \n",
    "        return False\n",
    "\n",
    "df['hasDemo'] = df.text.apply(hasDemo)"
   ]
  },
  {
   "cell_type": "code",
   "execution_count": 132,
   "metadata": {},
   "outputs": [],
   "source": [
    "def hasObama(x): \n",
    "    if 'obama' in x.lower():\n",
    "        return True\n",
    "    else: \n",
    "        return False\n",
    "    \n",
    "def hasHillary(x): \n",
    "    if 'hillary' in x.lower(): \n",
    "        return True\n",
    "    else: \n",
    "        return False\n",
    "    \n",
    "def hasTrump(x): \n",
    "    if 'trump' in x.lower(): \n",
    "        return True\n",
    "    else: \n",
    "        return False\n",
    "\n",
    "df['hasObama'] = df.text.apply(hasObama)\n",
    "df['hasHillary'] = df.text.apply(hasHillary)\n",
    "df['hasTrump'] = df.text.apply(hasTrump)"
   ]
  },
  {
   "cell_type": "code",
   "execution_count": 133,
   "metadata": {},
   "outputs": [
    {
     "data": {
      "text/html": [
       "<div>\n",
       "<style scoped>\n",
       "    .dataframe tbody tr th:only-of-type {\n",
       "        vertical-align: middle;\n",
       "    }\n",
       "\n",
       "    .dataframe tbody tr th {\n",
       "        vertical-align: top;\n",
       "    }\n",
       "\n",
       "    .dataframe thead th {\n",
       "        text-align: right;\n",
       "    }\n",
       "</style>\n",
       "<table border=\"1\" class=\"dataframe\">\n",
       "  <thead>\n",
       "    <tr style=\"text-align: right;\">\n",
       "      <th></th>\n",
       "      <th>Unnamed: 0</th>\n",
       "      <th>date</th>\n",
       "      <th>text</th>\n",
       "      <th>author</th>\n",
       "      <th>hasExclamation</th>\n",
       "      <th>countCaps</th>\n",
       "      <th>globalWarming</th>\n",
       "      <th>climateChange</th>\n",
       "      <th>hasAt</th>\n",
       "      <th>hasHashtag</th>\n",
       "      <th>hasRepub</th>\n",
       "      <th>charCount</th>\n",
       "      <th>hasDemo</th>\n",
       "      <th>hasObama</th>\n",
       "      <th>hasHillary</th>\n",
       "      <th>hasTrump</th>\n",
       "    </tr>\n",
       "  </thead>\n",
       "  <tbody>\n",
       "    <tr>\n",
       "      <th>0</th>\n",
       "      <td>0</td>\n",
       "      <td>2016-10-14</td>\n",
       "      <td>Denying climate change is dangerous. Join @OFA...</td>\n",
       "      <td>BarackObama</td>\n",
       "      <td>False</td>\n",
       "      <td>12</td>\n",
       "      <td>False</td>\n",
       "      <td>True</td>\n",
       "      <td>True</td>\n",
       "      <td>True</td>\n",
       "      <td>False</td>\n",
       "      <td>130</td>\n",
       "      <td>False</td>\n",
       "      <td>False</td>\n",
       "      <td>False</td>\n",
       "      <td>False</td>\n",
       "    </tr>\n",
       "    <tr>\n",
       "      <th>1</th>\n",
       "      <td>1</td>\n",
       "      <td>2016-10-14</td>\n",
       "      <td>The American Bar Association gave Judge Garlan...</td>\n",
       "      <td>BarackObama</td>\n",
       "      <td>False</td>\n",
       "      <td>19</td>\n",
       "      <td>False</td>\n",
       "      <td>False</td>\n",
       "      <td>False</td>\n",
       "      <td>True</td>\n",
       "      <td>False</td>\n",
       "      <td>150</td>\n",
       "      <td>False</td>\n",
       "      <td>False</td>\n",
       "      <td>False</td>\n",
       "      <td>False</td>\n",
       "    </tr>\n",
       "  </tbody>\n",
       "</table>\n",
       "</div>"
      ],
      "text/plain": [
       "   Unnamed: 0       date                                               text  \\\n",
       "0           0 2016-10-14  Denying climate change is dangerous. Join @OFA...   \n",
       "1           1 2016-10-14  The American Bar Association gave Judge Garlan...   \n",
       "\n",
       "        author  hasExclamation  countCaps  globalWarming  climateChange  \\\n",
       "0  BarackObama           False         12          False           True   \n",
       "1  BarackObama           False         19          False          False   \n",
       "\n",
       "   hasAt  hasHashtag  hasRepub  charCount  hasDemo  hasObama  hasHillary  \\\n",
       "0   True        True     False        130    False     False       False   \n",
       "1  False        True     False        150    False     False       False   \n",
       "\n",
       "   hasTrump  \n",
       "0     False  \n",
       "1     False  "
      ]
     },
     "execution_count": 133,
     "metadata": {},
     "output_type": "execute_result"
    }
   ],
   "source": [
    "df.head(2)"
   ]
  },
  {
   "cell_type": "code",
   "execution_count": 134,
   "metadata": {},
   "outputs": [
    {
     "name": "stdout",
     "output_type": "stream",
     "text": [
      "Accuracy: 0.81 (+/- 0.12)\n"
     ]
    },
    {
     "data": {
      "text/html": [
       "<div>\n",
       "<style scoped>\n",
       "    .dataframe tbody tr th:only-of-type {\n",
       "        vertical-align: middle;\n",
       "    }\n",
       "\n",
       "    .dataframe tbody tr th {\n",
       "        vertical-align: top;\n",
       "    }\n",
       "\n",
       "    .dataframe thead th {\n",
       "        text-align: right;\n",
       "    }\n",
       "</style>\n",
       "<table border=\"1\" class=\"dataframe\">\n",
       "  <thead>\n",
       "    <tr style=\"text-align: right;\">\n",
       "      <th></th>\n",
       "      <th>0</th>\n",
       "      <th>1</th>\n",
       "      <th>2</th>\n",
       "      <th>3</th>\n",
       "      <th>4</th>\n",
       "      <th>5</th>\n",
       "      <th>6</th>\n",
       "      <th>7</th>\n",
       "      <th>8</th>\n",
       "      <th>9</th>\n",
       "      <th>10</th>\n",
       "      <th>11</th>\n",
       "    </tr>\n",
       "  </thead>\n",
       "  <tbody>\n",
       "    <tr>\n",
       "      <th>score</th>\n",
       "      <td>0.888652</td>\n",
       "      <td>0.886092</td>\n",
       "      <td>0.866041</td>\n",
       "      <td>0.823379</td>\n",
       "      <td>0.775171</td>\n",
       "      <td>0.799061</td>\n",
       "      <td>0.699531</td>\n",
       "      <td>0.716603</td>\n",
       "      <td>0.8344</td>\n",
       "      <td>0.828425</td>\n",
       "      <td>None</td>\n",
       "      <td>None</td>\n",
       "    </tr>\n",
       "    <tr>\n",
       "      <th>feature</th>\n",
       "      <td>hasExclamation</td>\n",
       "      <td>countCaps</td>\n",
       "      <td>globalWarming</td>\n",
       "      <td>climateChange</td>\n",
       "      <td>hasAt</td>\n",
       "      <td>hasHashtag</td>\n",
       "      <td>hasRepub</td>\n",
       "      <td>charCount</td>\n",
       "      <td>hasDemo</td>\n",
       "      <td>hasObama</td>\n",
       "      <td>hasHillary</td>\n",
       "      <td>hasTrump</td>\n",
       "    </tr>\n",
       "  </tbody>\n",
       "</table>\n",
       "</div>"
      ],
      "text/plain": [
       "                     0          1              2              3         4   \\\n",
       "score          0.888652   0.886092       0.866041       0.823379  0.775171   \n",
       "feature  hasExclamation  countCaps  globalWarming  climateChange     hasAt   \n",
       "\n",
       "                 5         6          7        8         9           10  \\\n",
       "score      0.799061  0.699531   0.716603   0.8344  0.828425        None   \n",
       "feature  hasHashtag  hasRepub  charCount  hasDemo  hasObama  hasHillary   \n",
       "\n",
       "               11  \n",
       "score        None  \n",
       "feature  hasTrump  "
      ]
     },
     "execution_count": 134,
     "metadata": {},
     "output_type": "execute_result"
    }
   ],
   "source": [
    "from sklearn.model_selection import cross_val_score\n",
    "from sklearn import tree\n",
    "\n",
    "df_bo_dt = df[df.author != 'HillaryClinton']\n",
    "\n",
    "clf = tree.DecisionTreeClassifier(random_state=0)\n",
    "scores = cross_val_score(clf, df_bo_dt.iloc[:, 4:], df_bo_dt.author, cv=10)\n",
    "print(\"Accuracy: %0.2f (+/- %0.2f)\" % (scores.mean(), scores.std() * 2))\n",
    "pd.DataFrame([scores, df.columns[4:].values], index = ['score', 'feature'])"
   ]
  },
  {
   "cell_type": "code",
   "execution_count": 135,
   "metadata": {},
   "outputs": [
    {
     "data": {
      "image/png": "[encoded data removed]",
      "text/plain": [
       "<IPython.core.display.Image object>"
      ]
     },
     "execution_count": 135,
     "metadata": {},
     "output_type": "execute_result"
    }
   ],
   "source": [
    "### Fit Decision Tree ###\n",
    "\n",
    "split =  int(df.shape[0]* 0.9)\n",
    "\n",
    "clf = tree.DecisionTreeClassifier(random_state=0, \n",
    "                                 max_depth=3)\n",
    "\n",
    "clf = clf.fit(X = df_bo_dt.iloc[:split, 4:],\n",
    "              y = df_bo_dt.author[:split])\n",
    "\n",
    "### Visualize ###\n",
    "dotfile = open(\"dtree2.dot\", 'w')\n",
    "tree.export_graphviz(clf, out_file = dotfile, feature_names = df_bo_dt.iloc[:, 4:].columns)\n",
    "dotfile.close()\n",
    "!dot -Tpng dtree2.dot -o tree.png\n",
    "\n",
    "from IPython.display import Image \n",
    "Image(filename='tree.png')"
   ]
  },
  {
   "cell_type": "code",
   "execution_count": 136,
   "metadata": {},
   "outputs": [
    {
     "name": "stdout",
     "output_type": "stream",
     "text": [
      "91.6% mean accuracy - test\n"
     ]
    }
   ],
   "source": [
    "#scores  \n",
    "test_split = -int(df.shape[0]*0.1)\n",
    "score = clf.score(X = df_bo_dt.iloc[test_split:, 4:],\n",
    "                  y = df_bo_dt.author[test_split:])\n",
    "\n",
    "print ('{0:.3g}% mean accuracy - test'.format(score*100))"
   ]
  },
  {
   "cell_type": "code",
   "execution_count": 102,
   "metadata": {},
   "outputs": [
    {
     "data": {
      "text/plain": [
       "2909"
      ]
     },
     "execution_count": 102,
     "metadata": {},
     "output_type": "execute_result"
    }
   ],
   "source": [
    "\n"
   ]
  },
  {
   "cell_type": "markdown",
   "metadata": {},
   "source": [
    "Histogram of Dates"
   ]
  },
  {
   "cell_type": "code",
   "execution_count": 22,
   "metadata": {},
   "outputs": [],
   "source": [
    "gba_date_cal = df.groupby('author').date_cal"
   ]
  },
  {
   "cell_type": "code",
   "execution_count": 29,
   "metadata": {},
   "outputs": [
    {
     "data": {
      "text/plain": [
       "author\n",
       "BarackObama       Axes(0.125,0.125;0.775x0.755)\n",
       "DonaldTrump       Axes(0.125,0.125;0.775x0.755)\n",
       "HillaryClinton    Axes(0.125,0.125;0.775x0.755)\n",
       "Name: date_cal, dtype: object"
      ]
     },
     "execution_count": 29,
     "metadata": {},
     "output_type": "execute_result"
    },
    {
     "data": {
      "image/png": "[encoded data removed]",
      "text/plain": [
       "<matplotlib.figure.Figure at 0x10e3d0c50>"
      ]
     },
     "metadata": {},
     "output_type": "display_data"
    }
   ],
   "source": [
    "gba_date_cal.hist(stacked=True, histtype='step', )"
   ]
  },
  {
   "cell_type": "code",
   "execution_count": null,
   "metadata": {},
   "outputs": [],
   "source": []
  },
  {
   "cell_type": "markdown",
   "metadata": {},
   "source": [
    "# Nate"
   ]
  },
  {
   "cell_type": "code",
   "execution_count": 209,
   "metadata": {},
   "outputs": [],
   "source": [
    "from sklearn.feature_extraction.text import CountVectorizer"
   ]
  },
  {
   "cell_type": "code",
   "execution_count": 235,
   "metadata": {},
   "outputs": [],
   "source": [
    "def print_most_indicative(author, n=20, min_df=100):\n",
    "    cv_full = CountVectorizer(min_df=min_df, stop_words='english')\n",
    "    \n",
    "    full_text = cv_full.fit_transform(df.text)\n",
    "    full_vocab_use = full_text.sum(0).astype('float64')\n",
    "    \n",
    "    df_a  = df[df.author == author]\n",
    "    a_text = cv_full.transform(df_a.text)\n",
    "    a_vocab_use = a_text.sum(0).astype('float64')\n",
    "    \n",
    "    a_relative_vocab_use = a_vocab_use / full_vocab_use\n",
    "    a_relative_vocab_use = np.array(a_relative_vocab_use).reshape(-1)\n",
    "    \n",
    "    rev_vocab = dict([ (v, k) for k, v in cv_full.vocabulary_.iteritems( ) ])\n",
    "    \n",
    "    a_most_indicative = np.argsort(-a_relative_vocab_use)\n",
    "    a_most_used = np.argsort(-a_vocab_use)\n",
    "    \n",
    "    print 'Most indicative'\n",
    "    for i in range(n):\n",
    "        print rev_vocab[a_most_indicative[i]]\n",
    "        print a_vocab_use[0, a_most_indicative[i]]\n",
    "        print full_vocab_use[0, a_most_indicative[i]]\n",
    "        \n",
    "    print\n",
    "    print 'Most used'\n",
    "    for i in range(n):\n",
    "        print rev_vocab[a_most_used[0, i]]\n",
    "        print a_vocab_use[0, a_most_used[0, i]]\n",
    "        print full_vocab_use[0, a_most_used[0, i]]\n",
    "        \n",
    "      "
   ]
  },
  {
   "cell_type": "code",
   "execution_count": 236,
   "metadata": {},
   "outputs": [],
   "source": [
    "print_most_indicative('BarackObama', n=5)"
   ]
  },
  {
   "cell_type": "code",
   "execution_count": 237,
   "metadata": {},
   "outputs": [],
   "source": [
    "print_most_indicative('HillaryClinton', n=5)"
   ]
  },
  {
   "cell_type": "code",
   "execution_count": 240,
   "metadata": {},
   "outputs": [],
   "source": [
    "print_most_indicative('DonaldTrump', n=5)"
   ]
  },
  {
   "cell_type": "code",
   "execution_count": null,
   "metadata": {},
   "outputs": [],
   "source": []
  },
  {
   "cell_type": "code",
   "execution_count": 172,
   "metadata": {},
   "outputs": [],
   "source": [
    "from sklearn.feature_extraction.text import TfidfVectorizer"
   ]
  },
  {
   "cell_type": "code",
   "execution_count": 173,
   "metadata": {},
   "outputs": [],
   "source": [
    "tfidf_full = TfidfVectorizer(min_df=10)"
   ]
  },
  {
   "cell_type": "code",
   "execution_count": 174,
   "metadata": {},
   "outputs": [],
   "source": [
    "full_text = tfidf_full.fit_transform(df.text)\n",
    "full_vocab_use = full_text.sum(0).astype('float64')\n",
    "\n",
    "df_bo  = df[df.author == 'BarackObama']\n",
    "\n",
    "bo_text = tfidf_full.transform(df_bo.text)\n",
    "bo_vocab_use = bo_text.sum(0).astype('float64')\n",
    "\n",
    "bo_relative_vocab_use = bo_vocab_use / full_vocab_use\n",
    "bo_relative_vocab_use = np.array(bo_relative_vocab_use).reshape(-1)\n",
    "\n",
    "rev_vocab = dict([ (v, k) for k, v in tfidf_full.vocabulary_.iteritems( ) ])\n",
    "\n",
    "bo_most_indicative = np.argsort(-bo_relative_vocab_use)"
   ]
  },
  {
   "cell_type": "code",
   "execution_count": 182,
   "metadata": {},
   "outputs": [],
   "source": [
    "for i in range(20):\n",
    "    print rev_vocab[bo_most_indicative[i]]\n",
    "    print bo_vocab_use[0, bo_most_indicative[i]]"
   ]
  },
  {
   "cell_type": "code",
   "execution_count": 176,
   "metadata": {},
   "outputs": [],
   "source": []
  },
  {
   "cell_type": "code",
   "execution_count": 177,
   "metadata": {},
   "outputs": [
    {
     "data": {
      "text/plain": [
       "(51,)"
      ]
     },
     "execution_count": 177,
     "metadata": {},
     "output_type": "execute_result"
    }
   ],
   "source": [
    "bo_most_indicative_scores[:51].shape"
   ]
  },
  {
   "cell_type": "code",
   "execution_count": 178,
   "metadata": {},
   "outputs": [
    {
     "data": {
      "text/plain": [
       "<matplotlib.axes._subplots.AxesSubplot at 0x1097e6750>"
      ]
     },
     "execution_count": 178,
     "metadata": {},
     "output_type": "execute_result"
    },
    {
     "data": {
      "image/png": "[encoded data removed]",
      "text/plain": [
       "<matplotlib.figure.Figure at 0x10f199550>"
      ]
     },
     "metadata": {},
     "output_type": "display_data"
    }
   ],
   "source": [
    "sns.barplot(bo_most_indicative_scores[:50].reshape(1, 50))"
   ]
  },
  {
   "cell_type": "code",
   "execution_count": 179,
   "metadata": {},
   "outputs": [
    {
     "data": {
      "text/plain": [
       "array([ 1.,  1.,  1.,  1.,  1.,  1.,  1.,  1.,  1.,  1.,  1.,  1.,  1.,\n",
       "        1.,  1.,  1.,  1.,  1.,  1.,  1.,  1.,  1.,  1.,  1.,  1.,  1.,\n",
       "        1.,  1.,  1.,  1.,  1.,  1.,  1.,  1.,  1.,  1.,  1.,  1.,  1.,\n",
       "        1.,  1.,  1.,  1.,  1.,  1.,  1.,  1.,  1.,  1.,  1.])"
      ]
     },
     "execution_count": 179,
     "metadata": {},
     "output_type": "execute_result"
    }
   ],
   "source": [
    "bo_most_indicative_scores[:50].reshape(1, 50)[0]"
   ]
  },
  {
   "cell_type": "code",
   "execution_count": null,
   "metadata": {},
   "outputs": [],
   "source": []
  },
  {
   "cell_type": "code",
   "execution_count": null,
   "metadata": {},
   "outputs": [],
   "source": []
  },
  {
   "cell_type": "code",
   "execution_count": null,
   "metadata": {},
   "outputs": [],
   "source": []
  },
  {
   "cell_type": "code",
   "execution_count": 37,
   "metadata": {},
   "outputs": [],
   "source": [
    "# find the word frequencies in obama, trump and clinton tweets\n",
    "\n",
    "df_author  = df[df.author == 'BarackObama']\n",
    "\n",
    "for row in df_author.text:\n",
    "    print row\n",
    "    break"
   ]
  },
  {
   "cell_type": "code",
   "execution_count": null,
   "metadata": {},
   "outputs": [],
   "source": []
  },
  {
   "cell_type": "markdown",
   "metadata": {},
   "source": [
    "# End Nate"
   ]
  },
  {
   "cell_type": "markdown",
   "metadata": {},
   "source": [
    "# Start Amadeus"
   ]
  },
  {
   "cell_type": "code",
   "execution_count": 4,
   "metadata": {},
   "outputs": [],
   "source": [
    "http://scikit-learn.org/stable/modules/feature_extraction.html#text-feature-extraction\n"
   ]
  },
  {
   "cell_type": "code",
   "execution_count": 68,
   "metadata": {},
   "outputs": [],
   "source": [
    "df = df[~df.text.str.startswith('rt ')]"
   ]
  },
  {
   "cell_type": "code",
   "execution_count": null,
   "metadata": {},
   "outputs": [],
   "source": []
  },
  {
   "cell_type": "code",
   "execution_count": null,
   "metadata": {},
   "outputs": [],
   "source": []
  },
  {
   "cell_type": "code",
   "execution_count": null,
   "metadata": {},
   "outputs": [],
   "source": []
  },
  {
   "cell_type": "code",
   "execution_count": null,
   "metadata": {},
   "outputs": [],
   "source": []
  },
  {
   "cell_type": "code",
   "execution_count": null,
   "metadata": {},
   "outputs": [],
   "source": []
  },
  {
   "cell_type": "code",
   "execution_count": null,
   "metadata": {},
   "outputs": [],
   "source": []
  },
  {
   "cell_type": "code",
   "execution_count": null,
   "metadata": {},
   "outputs": [],
   "source": []
  },
  {
   "cell_type": "code",
   "execution_count": null,
   "metadata": {},
   "outputs": [],
   "source": []
  },
  {
   "cell_type": "markdown",
   "metadata": {},
   "source": [
    "Histograms"
   ]
  },
  {
   "cell_type": "code",
   "execution_count": null,
   "metadata": {},
   "outputs": [],
   "source": [
    "['date_cal'].hist()"
   ]
  },
  {
   "cell_type": "code",
   "execution_count": 39,
   "metadata": {},
   "outputs": [
    {
     "data": {
      "text/plain": [
       "array(['BarackObama', 'DonaldTrump', 'HillaryClinton'], dtype=object)"
      ]
     },
     "execution_count": 39,
     "metadata": {},
     "output_type": "execute_result"
    }
   ],
   "source": [
    "df.author.unique()"
   ]
  },
  {
   "cell_type": "code",
   "execution_count": 40,
   "metadata": {},
   "outputs": [
    {
     "data": {
      "text/plain": [
       "<matplotlib.axes._subplots.AxesSubplot at 0x182e2e3c940>"
      ]
     },
     "execution_count": 40,
     "metadata": {},
     "output_type": "execute_result"
    },
    {
     "data": {
      "image/png": "[encoded data removed]",
      "text/plain": [
       "<matplotlib.figure.Figure at 0x182e2dd2198>"
      ]
     },
     "metadata": {},
     "output_type": "display_data"
    }
   ],
   "source": [
    "df[df.author == 'BarackObama']['date_cal'].hist()\n",
    "df[df.author == 'DonaldTrump']['date_cal'].hist()\n",
    "df[df.author == 'HillaryClinton']['date_cal'].hist()"
   ]
  },
  {
   "cell_type": "code",
   "execution_count": 53,
   "metadata": {},
   "outputs": [
    {
     "data": {
      "image/png": "[encoded data removed]",
      "text/plain": [
       "<matplotlib.figure.Figure at 0x182e4e2edd8>"
      ]
     },
     "metadata": {},
     "output_type": "display_data"
    }
   ],
   "source": [
    "df['date_cal'].hist(df.author)"
   ]
  },
  {
   "cell_type": "code",
   "execution_count": 54,
   "metadata": {},
   "outputs": [
    {
     "data": {
      "text/plain": [
       "0       2016-10-14 00:00:00\n",
       "1       2016-10-14 00:00:00\n",
       "2       2016-10-14 00:00:00\n",
       "3       2016-10-14 00:00:00\n",
       "4       2016-10-13 00:00:00\n",
       "5       2016-10-13 00:00:00\n",
       "6       2016-10-13 00:00:00\n",
       "7       2016-10-12 00:00:00\n",
       "8       2016-10-12 00:00:00\n",
       "9       2016-10-12 00:00:00\n",
       "10      2016-10-12 00:00:00\n",
       "11      2016-10-11 00:00:00\n",
       "12      2016-10-11 00:00:00\n",
       "13      2016-10-11 00:00:00\n",
       "14      2016-10-11 00:00:00\n",
       "15      2016-10-11 00:00:00\n",
       "16      2016-10-07 00:00:00\n",
       "17      2016-10-07 00:00:00\n",
       "18      2016-10-07 00:00:00\n",
       "19      2016-10-07 00:00:00\n",
       "20      2016-10-04 00:00:00\n",
       "21      2016-10-03 00:00:00\n",
       "22      2016-09-30 00:00:00\n",
       "23      2016-09-30 00:00:00\n",
       "24      2016-09-30 00:00:00\n",
       "25      2016-09-29 00:00:00\n",
       "26      2016-09-28 00:00:00\n",
       "27      2016-09-27 00:00:00\n",
       "28      2016-09-27 00:00:00\n",
       "29      2016-09-26 00:00:00\n",
       "                ...        \n",
       "30651   2016-07-26 21:40:34\n",
       "30652   2016-07-26 21:37:51\n",
       "30653   2016-07-26 21:32:05\n",
       "30654   2016-07-26 21:19:43\n",
       "30655   2016-07-26 21:19:28\n",
       "30656   2016-07-26 21:17:03\n",
       "30657   2016-07-26 21:14:13\n",
       "30658   2016-07-26 21:02:01\n",
       "30659   2016-07-26 20:27:15\n",
       "30660   2016-07-26 19:31:08\n",
       "30661   2016-07-26 18:49:40\n",
       "30662   2016-07-26 18:29:23\n",
       "30663   2016-07-26 17:22:33\n",
       "30664   2016-07-26 16:18:14\n",
       "30665   2016-07-26 13:11:37\n",
       "30666   2016-07-26 03:42:19\n",
       "30667   2016-07-26 03:04:28\n",
       "30668   2016-07-26 02:56:49\n",
       "30669   2016-07-26 02:55:53\n",
       "30670   2016-07-26 02:49:57\n",
       "30671   2016-07-26 02:46:55\n",
       "30672   2016-07-26 02:45:12\n",
       "30673   2016-07-26 02:42:12\n",
       "30674   2016-07-26 02:41:43\n",
       "30675   2016-07-26 02:39:51\n",
       "30676   2016-07-26 02:36:29\n",
       "30677   2016-07-26 02:34:01\n",
       "30678   2016-07-26 02:28:56\n",
       "30679   2016-07-26 02:27:48\n",
       "30680   2016-07-26 02:26:28\n",
       "Name: date, Length: 30681, dtype: datetime64[ns]"
      ]
     },
     "execution_count": 54,
     "metadata": {},
     "output_type": "execute_result"
    }
   ],
   "source": [
    "df.date"
   ]
  },
  {
   "cell_type": "code",
   "execution_count": null,
   "metadata": {},
   "outputs": [],
   "source": []
  },
  {
   "cell_type": "code",
   "execution_count": null,
   "metadata": {},
   "outputs": [],
   "source": []
  },
  {
   "cell_type": "code",
   "execution_count": null,
   "metadata": {},
   "outputs": [],
   "source": []
  },
  {
   "cell_type": "code",
   "execution_count": null,
   "metadata": {},
   "outputs": [],
   "source": []
  },
  {
   "cell_type": "code",
   "execution_count": null,
   "metadata": {},
   "outputs": [],
   "source": []
  },
  {
   "cell_type": "code",
   "execution_count": null,
   "metadata": {},
   "outputs": [],
   "source": []
  },
  {
   "cell_type": "code",
   "execution_count": null,
   "metadata": {},
   "outputs": [],
   "source": []
  },
  {
   "cell_type": "code",
   "execution_count": null,
   "metadata": {},
   "outputs": [],
   "source": []
  },
  {
   "cell_type": "code",
   "execution_count": null,
   "metadata": {},
   "outputs": [],
   "source": []
  },
  {
   "cell_type": "code",
   "execution_count": null,
   "metadata": {},
   "outputs": [],
   "source": []
  },
  {
   "cell_type": "code",
   "execution_count": null,
   "metadata": {},
   "outputs": [],
   "source": []
  },
  {
   "cell_type": "code",
   "execution_count": 9,
   "metadata": {},
   "outputs": [],
   "source": []
  },
  {
   "cell_type": "code",
   "execution_count": null,
   "metadata": {},
   "outputs": [],
   "source": []
  },
  {
   "cell_type": "code",
   "execution_count": null,
   "metadata": {},
   "outputs": [],
   "source": []
  }
 ],
 "metadata": {
  "kernelspec": {
   "display_name": "Python 3",
   "language": "python",
   "name": "python3"
  },
  "language_info": {
   "codemirror_mode": {
    "name": "ipython",
    "version": 3
   },
   "file_extension": ".py",
   "mimetype": "text/x-python",
   "name": "python",
   "nbconvert_exporter": "python",
   "pygments_lexer": "ipython3",
   "version": "3.6.3"
  }
 },
 "nbformat": 4,
 "nbformat_minor": 2
}
